{
 "cells": [
  {
   "cell_type": "code",
   "execution_count": 4,
   "id": "2d791248",
   "metadata": {},
   "outputs": [
    {
     "name": "stdout",
     "output_type": "stream",
     "text": [
      "Classificação de A: 1\n",
      "Norma de u ao quadrado: 2.2058823081068404\n",
      "Norma de v ao quadrado: 2.1904270956157896\n",
      "Norma de A ao quadrado: 4.831824377416722\n"
     ]
    }
   ],
   "source": [
    "import numpy as np\n",
    "\n",
    "# Defina o valor de n\n",
    "n = 5  # Substitua pelo valor desejado (5, 15, 25)\n",
    "\n",
    "# Gere vetores aleatórios u e v de tamanho n\n",
    "u = np.random.rand(n, 1)\n",
    "v = np.random.rand(n, 1)\n",
    "\n",
    "# Calcule a matriz A = uv^T\n",
    "A = np.outer(u, v)\n",
    "\n",
    "# Calcule a classificação de A\n",
    "rank_A = np.linalg.matrix_rank(A)\n",
    "\n",
    "# Calcule ||u||^2 e ||v||^2\n",
    "norm_u_squared = np.linalg.norm(u)**2\n",
    "norm_v_squared = np.linalg.norm(v)**2\n",
    "\n",
    "# Calcule ||uv^T||^2\n",
    "norm_A_squared = np.linalg.norm(A)**2\n",
    "\n",
    "# Imprima os resultados\n",
    "print(f\"Classificação de A: {rank_A}\")\n",
    "print(f\"Norma de u ao quadrado: {norm_u_squared}\")\n",
    "print(f\"Norma de v ao quadrado: {norm_v_squared}\")\n",
    "print(f\"Norma de A ao quadrado: {norm_A_squared}\")"
   ]
  },
  {
   "cell_type": "code",
   "execution_count": 5,
   "id": "64f560fd",
   "metadata": {},
   "outputs": [
    {
     "name": "stdout",
     "output_type": "stream",
     "text": [
      "Classificação de A: 1\n",
      "Norma de u ao quadrado: 4.524299825505341\n",
      "Norma de v ao quadrado: 6.806351570478064\n",
      "Norma de A ao quadrado: 30.793975222641905\n"
     ]
    }
   ],
   "source": [
    "import numpy as np\n",
    "\n",
    "# Defina o valor de n\n",
    "n = 15  # Substitua pelo valor desejado (5, 15, 25)\n",
    "\n",
    "# Gere vetores aleatórios u e v de tamanho n\n",
    "u = np.random.rand(n, 1)\n",
    "v = np.random.rand(n, 1)\n",
    "\n",
    "# Calcule a matriz A = uv^T\n",
    "A = np.outer(u, v)\n",
    "\n",
    "# Calcule a classificação de A\n",
    "rank_A = np.linalg.matrix_rank(A)\n",
    "\n",
    "# Calcule ||u||^2 e ||v||^2\n",
    "norm_u_squared = np.linalg.norm(u)**2\n",
    "norm_v_squared = np.linalg.norm(v)**2\n",
    "\n",
    "# Calcule ||uv^T||^2\n",
    "norm_A_squared = np.linalg.norm(A)**2\n",
    "\n",
    "# Imprima os resultados\n",
    "print(f\"Classificação de A: {rank_A}\")\n",
    "print(f\"Norma de u ao quadrado: {norm_u_squared}\")\n",
    "print(f\"Norma de v ao quadrado: {norm_v_squared}\")\n",
    "print(f\"Norma de A ao quadrado: {norm_A_squared}\")"
   ]
  },
  {
   "cell_type": "code",
   "execution_count": 6,
   "id": "c1908d89",
   "metadata": {},
   "outputs": [
    {
     "name": "stdout",
     "output_type": "stream",
     "text": [
      "Classificação de A: 1\n",
      "Norma de u ao quadrado: 10.470774175357313\n",
      "Norma de v ao quadrado: 8.868579382572701\n",
      "Norma de A ao quadrado: 92.86089197114852\n"
     ]
    }
   ],
   "source": [
    "import numpy as np\n",
    "\n",
    "# Defina o valor de n\n",
    "n = 25  # Substitua pelo valor desejado (5, 15, 25)\n",
    "\n",
    "# Gere vetores aleatórios u e v de tamanho n\n",
    "u = np.random.rand(n, 1)\n",
    "v = np.random.rand(n, 1)\n",
    "\n",
    "# Calcule a matriz A = uv^T\n",
    "A = np.outer(u, v)\n",
    "\n",
    "# Calcule a classificação de A\n",
    "rank_A = np.linalg.matrix_rank(A)\n",
    "\n",
    "# Calcule ||u||^2 e ||v||^2\n",
    "norm_u_squared = np.linalg.norm(u)**2\n",
    "norm_v_squared = np.linalg.norm(v)**2\n",
    "\n",
    "# Calcule ||uv^T||^2\n",
    "norm_A_squared = np.linalg.norm(A)**2\n",
    "\n",
    "# Imprima os resultados\n",
    "print(f\"Classificação de A: {rank_A}\")\n",
    "print(f\"Norma de u ao quadrado: {norm_u_squared}\")\n",
    "print(f\"Norma de v ao quadrado: {norm_v_squared}\")\n",
    "print(f\"Norma de A ao quadrado: {norm_A_squared}\")"
   ]
  }
 ],
 "metadata": {
  "kernelspec": {
   "display_name": "Python 3 (ipykernel)",
   "language": "python",
   "name": "python3"
  },
  "language_info": {
   "codemirror_mode": {
    "name": "ipython",
    "version": 3
   },
   "file_extension": ".py",
   "mimetype": "text/x-python",
   "name": "python",
   "nbconvert_exporter": "python",
   "pygments_lexer": "ipython3",
   "version": "3.11.4"
  }
 },
 "nbformat": 4,
 "nbformat_minor": 5
}
